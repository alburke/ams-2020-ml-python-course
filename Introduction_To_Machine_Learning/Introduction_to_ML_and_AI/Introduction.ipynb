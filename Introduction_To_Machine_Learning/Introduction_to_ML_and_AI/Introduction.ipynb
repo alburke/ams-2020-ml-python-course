{
 "cells": [
  {
   "cell_type": "markdown",
   "metadata": {},
   "source": [
    "# Lecture 1: Introduction to Machine Learning and Artificial Intelligence"
   ]
  },
  {
   "cell_type": "markdown",
   "metadata": {},
   "source": [
    "# Topics:\n",
    "\n",
    "1. ML/AI and how they are related\n",
    "2. The ML pipeline (and what this lecture will cover)\n",
    "3. Introducing the short course dataset and prediction problem\n",
    "4. Data exploration and analysis\n",
    "    - Reading data with pandas\n",
    "    - Reading data with xarray\n",
    "    - Data Visualization\n",
    "5. Data pre-processing\n",
    "    - Transformations\n",
    "    - Normalization and Scaling\n",
    "    - Dimensionality Reduction \n",
    "6. Tutorial Data Preparation"
   ]
  },
  {
   "cell_type": "markdown",
   "metadata": {},
   "source": [
    "## 1. Machine learning (ML) / artificial intelligence (AI) and how they are related\n",
    "\n",
    "https://mrrajeshrai.com/artificial-intelligence-vs-machine-learning-vs-deep-learning \n",
    "<img src=\"Images/AI-vs-ML-vs-Deep-Learning.png\" width=\"600\" align=\"left\">"
   ]
  },
  {
   "cell_type": "markdown",
   "metadata": {},
   "source": [
    "- AI systems are trained to imitate human behaviors. \n",
    "- ML is a subset of AI\n",
    "- ML models use statistical functions to improve predictive performance after experiencing data\n"
   ]
  },
  {
   "cell_type": "markdown",
   "metadata": {
    "collapsed": true
   },
   "source": [
    "## 2. The ML pipeline\n",
    "\n",
    "<img src=\"Images/ml_comic.png\" width=\"300\" height=\"400\" align=\"left\">\n",
    "<br>"
   ]
  },
  {
   "cell_type": "markdown",
   "metadata": {},
   "source": [
    "- **Problem Definition**: Loading and visualizing your data to see if ML methods are applicable\n",
    "    - How are the data distributed and how are different variables related\n",
    "- **Data Pre-processing**: Transforming your data into forms more amenable for ML applications \n",
    "- **Data Separation**: Splitting your data into training/validation/testing sets\n",
    "- **Model Training**: Optimize one or more ML model on your processed data\n",
    "- **Deployment**: Apply the ML model to testing data the model has not seen\n",
    "- **Evaluation**: Determine how well the ML model performs\n",
    "- **Interpretation**: Discover what the ML model has learned about the processed data\n",
    "\n",
    "#### *We will be covering the first two steps in this lecture*\n",
    "\n",
    "\n",
    "<br>\n",
    "<br>"
   ]
  },
  {
   "cell_type": "markdown",
   "metadata": {},
   "source": [
    "## 3. Introducing the short course dataset and prediction problem\n",
    "\n",
    "The goal of the problem is to predict the probability of low-level vorticity exceeding a certain threshold given a storm with simulated radar reflectivity > 40 dBZ and the associated surface wind and temperature fields. \n",
    "\n",
    "Simulated thunderstorms are from the National Center for Atmospheric Research (NCAR) convection-allowing ensemble (Schwartz et al. 2015).\n",
    "\n",
    "**Predictor variables (Input fields in the netCDF data):**\n",
    "- REFL_COM_curr (composite reflectivity)\n",
    "- U10_curr (10 m west-east wind component in m/s)\n",
    "- V10_curr (10 m south-north wind component in m/s)\n",
    "- T2_curr (2 m temperature in Kelvin)\n",
    "\n",
    "**Label variable (Field we are predicting):**\n",
    "- RVORT1_MAX_future (hourly maximum vertical vorticity at 1 km Above ground level in s-1)\n",
    "    \n",
    "**Other fields of note:**\n",
    "- time (valid time of storm image)\n",
    "- i and j (row and column array indices from original WRF model grid)\n",
    "- x and y (projection coordinates in meters)\n",
    "- masks (binary grid showing where storm outline is. Aggregate stats in csv file are extracted from only positive grid points in masks)\n",
    "<br>\n",
    "<br>"
   ]
  },
  {
   "cell_type": "markdown",
   "metadata": {},
   "source": [
    "**To make sure our plots show inline:**"
   ]
  },
  {
   "cell_type": "code",
   "execution_count": null,
   "metadata": {},
   "outputs": [],
   "source": [
    "%matplotlib inline"
   ]
  },
  {
   "cell_type": "markdown",
   "metadata": {},
   "source": [
    "**First we need to import the libraries used in the following sections.**"
   ]
  },
  {
   "cell_type": "code",
   "execution_count": 59,
   "metadata": {},
   "outputs": [],
   "source": [
    "import matplotlib.pyplot as plt\n",
    "from glob import glob\n",
    "import pandas as pd\n",
    "import numpy as np\n",
    "import os\n",
    "from netCDF4 import Dataset\n",
    "import matplotlib\n",
    "import seaborn as sns\n",
    "import cartopy.crs as ccrs\n",
    "import cartopy.feature as cf \n",
    "import cartopy\n",
    "import xarray as xr"
   ]
  },
  {
   "cell_type": "markdown",
   "metadata": {},
   "source": [
    "## 4. Data exploration and analysis"
   ]
  },
  {
   "cell_type": "markdown",
   "metadata": {},
   "source": [
    "## Reading CSV files using pandas"
   ]
  },
  {
   "cell_type": "markdown",
   "metadata": {},
   "source": [
    "***We use glob to find all files ending in \".csv\" and save them in a sorted list*** "
   ]
  },
  {
   "cell_type": "code",
   "execution_count": 13,
   "metadata": {},
   "outputs": [
    {
     "name": "stdout",
     "output_type": "stream",
     "text": [
      "/Users/aburk/Documents/ams-2020-ml-python-course/data/track_data_ncar_ams_3km_csv_small/\n",
      "Number of csv files: 100\n"
     ]
    }
   ],
   "source": [
    "#Set \"csv_path\" to the location of the \"data\" folder.\n",
    "csv_path =\".../data/track_data_ncar_ams_3km_csv_small/\"\n",
    "print(csv_path)\n",
    "\n",
    "#Find all files in folder that end in \".csv\"\n",
    "csv_files = sorted(glob(csv_path+\"*.csv\"))\n",
    "print('Number of csv files: {0}'.format(len(csv_files)))"
   ]
  },
  {
   "cell_type": "markdown",
   "metadata": {},
   "source": [
    "***How to read in all of the CSV files to one pandas dataframe***\n",
    "\n",
    "The following method opens all of the files saved in \"csv_files\", reads the data, and concatenates them together along their common columns. The first column, usually titled \"unknown\" is ignored."
   ]
  },
  {
   "cell_type": "code",
   "execution_count": 14,
   "metadata": {},
   "outputs": [
    {
     "name": "stdout",
     "output_type": "stream",
     "text": [
      "Number of samples: 121137\n"
     ]
    }
   ],
   "source": [
    "#Use \"map\" to read multiple files and concatenate the dataframes\n",
    "csv_all_files = pd.concat(map(\n",
    "                        pd.read_csv, csv_files), \n",
    "                        ignore_index=True)\n",
    "\n",
    "#Print the number of total samples from all files found\n",
    "print('Number of samples: {0}'.format(len(csv_all_files)))"
   ]
  },
  {
   "cell_type": "markdown",
   "metadata": {},
   "source": [
    "***How to determine variables in a dataframe***\n",
    "\n",
    "We print out the column headers of the dataframe to identify which variables the file contains and what we want to further explore. "
   ]
  },
  {
   "cell_type": "code",
   "execution_count": 15,
   "metadata": {},
   "outputs": [
    {
     "name": "stdout",
     "output_type": "stream",
     "text": [
      "Index(['Step_ID', 'Track_ID', 'Ensemble_Name', 'Ensemble_Member', 'Run_Date',\n",
      "       'Valid_Date', 'Forecast_Hour', 'Valid_Hour_UTC', 'Duration',\n",
      "       'Centroid_Lon', 'Centroid_Lat', 'Centroid_X', 'Centroid_Y',\n",
      "       'Storm_Motion_U', 'Storm_Motion_V', 'REFL_COM_mean', 'REFL_COM_max',\n",
      "       'REFL_COM_min', 'REFL_COM_std', 'REFL_COM_percentile_10',\n",
      "       'REFL_COM_percentile_25', 'REFL_COM_percentile_50',\n",
      "       'REFL_COM_percentile_75', 'REFL_COM_percentile_90', 'U10_mean',\n",
      "       'U10_max', 'U10_min', 'U10_std', 'U10_percentile_10',\n",
      "       'U10_percentile_25', 'U10_percentile_50', 'U10_percentile_75',\n",
      "       'U10_percentile_90', 'V10_mean', 'V10_max', 'V10_min', 'V10_std',\n",
      "       'V10_percentile_10', 'V10_percentile_25', 'V10_percentile_50',\n",
      "       'V10_percentile_75', 'V10_percentile_90', 'T2_mean', 'T2_max', 'T2_min',\n",
      "       'T2_std', 'T2_percentile_10', 'T2_percentile_25', 'T2_percentile_50',\n",
      "       'T2_percentile_75', 'T2_percentile_90', 'RVORT1_MAX-future_mean',\n",
      "       'RVORT1_MAX-future_max', 'RVORT1_MAX-future_min',\n",
      "       'RVORT1_MAX-future_std', 'RVORT1_MAX-future_percentile_10',\n",
      "       'RVORT1_MAX-future_percentile_25', 'RVORT1_MAX-future_percentile_50',\n",
      "       'RVORT1_MAX-future_percentile_75', 'RVORT1_MAX-future_percentile_90',\n",
      "       'HAIL_MAXK1-future_mean', 'HAIL_MAXK1-future_max',\n",
      "       'HAIL_MAXK1-future_min', 'HAIL_MAXK1-future_std',\n",
      "       'HAIL_MAXK1-future_percentile_10', 'HAIL_MAXK1-future_percentile_25',\n",
      "       'HAIL_MAXK1-future_percentile_50', 'HAIL_MAXK1-future_percentile_75',\n",
      "       'HAIL_MAXK1-future_percentile_90', 'area', 'eccentricity',\n",
      "       'major_axis_length', 'minor_axis_length', 'orientation', 'Matched',\n",
      "       'Max_Hail_Size', 'Num_Matches', 'Shape', 'Location', 'Scale'],\n",
      "      dtype='object')\n"
     ]
    }
   ],
   "source": [
    "#Print out column headers\n",
    "print(csv_all_files.columns)"
   ]
  },
  {
   "cell_type": "markdown",
   "metadata": {},
   "source": [
    "***How to look at the first five samples of a dataframe for a given set of variables***\n",
    "\n",
    "Now that we know the specific column names, we can analyze a few variables and their values."
   ]
  },
  {
   "cell_type": "code",
   "execution_count": 16,
   "metadata": {},
   "outputs": [
    {
     "data": {
      "text/html": [
       "<div>\n",
       "<style scoped>\n",
       "    .dataframe tbody tr th:only-of-type {\n",
       "        vertical-align: middle;\n",
       "    }\n",
       "\n",
       "    .dataframe tbody tr th {\n",
       "        vertical-align: top;\n",
       "    }\n",
       "\n",
       "    .dataframe thead th {\n",
       "        text-align: right;\n",
       "    }\n",
       "</style>\n",
       "<table border=\"1\" class=\"dataframe\">\n",
       "  <thead>\n",
       "    <tr style=\"text-align: right;\">\n",
       "      <th></th>\n",
       "      <th>U10_percentile_50</th>\n",
       "      <th>V10_percentile_50</th>\n",
       "      <th>T2_percentile_50</th>\n",
       "    </tr>\n",
       "  </thead>\n",
       "  <tbody>\n",
       "    <tr>\n",
       "      <th>0</th>\n",
       "      <td>0.27611</td>\n",
       "      <td>4.78568</td>\n",
       "      <td>293.17340</td>\n",
       "    </tr>\n",
       "    <tr>\n",
       "      <th>1</th>\n",
       "      <td>-1.08810</td>\n",
       "      <td>5.65116</td>\n",
       "      <td>291.98325</td>\n",
       "    </tr>\n",
       "    <tr>\n",
       "      <th>2</th>\n",
       "      <td>-0.36890</td>\n",
       "      <td>2.77814</td>\n",
       "      <td>293.00183</td>\n",
       "    </tr>\n",
       "    <tr>\n",
       "      <th>3</th>\n",
       "      <td>1.39530</td>\n",
       "      <td>1.29246</td>\n",
       "      <td>292.66022</td>\n",
       "    </tr>\n",
       "    <tr>\n",
       "      <th>4</th>\n",
       "      <td>0.61899</td>\n",
       "      <td>4.36524</td>\n",
       "      <td>292.27325</td>\n",
       "    </tr>\n",
       "  </tbody>\n",
       "</table>\n",
       "</div>"
      ],
      "text/plain": [
       "   U10_percentile_50  V10_percentile_50  T2_percentile_50\n",
       "0            0.27611            4.78568         293.17340\n",
       "1           -1.08810            5.65116         291.98325\n",
       "2           -0.36890            2.77814         293.00183\n",
       "3            1.39530            1.29246         292.66022\n",
       "4            0.61899            4.36524         292.27325"
      ]
     },
     "execution_count": 16,
     "metadata": {},
     "output_type": "execute_result"
    }
   ],
   "source": [
    "#Subset the csv files using \".loc\". Look at all rows and the three specified columns\n",
    "samples = csv_all_files.loc[:,['U10_percentile_50', 'V10_percentile_50', 'T2_percentile_50']]\n",
    "\n",
    "#Print the first five rows of the selected columns\n",
    "samples.head()"
   ]
  },
  {
   "cell_type": "markdown",
   "metadata": {},
   "source": [
    "***How to look at the last five samples***"
   ]
  },
  {
   "cell_type": "code",
   "execution_count": 17,
   "metadata": {},
   "outputs": [
    {
     "data": {
      "text/html": [
       "<div>\n",
       "<style scoped>\n",
       "    .dataframe tbody tr th:only-of-type {\n",
       "        vertical-align: middle;\n",
       "    }\n",
       "\n",
       "    .dataframe tbody tr th {\n",
       "        vertical-align: top;\n",
       "    }\n",
       "\n",
       "    .dataframe thead th {\n",
       "        text-align: right;\n",
       "    }\n",
       "</style>\n",
       "<table border=\"1\" class=\"dataframe\">\n",
       "  <thead>\n",
       "    <tr style=\"text-align: right;\">\n",
       "      <th></th>\n",
       "      <th>U10_percentile_50</th>\n",
       "      <th>V10_percentile_50</th>\n",
       "      <th>T2_percentile_50</th>\n",
       "    </tr>\n",
       "  </thead>\n",
       "  <tbody>\n",
       "    <tr>\n",
       "      <th>121132</th>\n",
       "      <td>-8.93498</td>\n",
       "      <td>-1.34876</td>\n",
       "      <td>273.58032</td>\n",
       "    </tr>\n",
       "    <tr>\n",
       "      <th>121133</th>\n",
       "      <td>-8.69047</td>\n",
       "      <td>-0.05067</td>\n",
       "      <td>272.04858</td>\n",
       "    </tr>\n",
       "    <tr>\n",
       "      <th>121134</th>\n",
       "      <td>-7.48825</td>\n",
       "      <td>-2.31438</td>\n",
       "      <td>272.70273</td>\n",
       "    </tr>\n",
       "    <tr>\n",
       "      <th>121135</th>\n",
       "      <td>-7.72428</td>\n",
       "      <td>-0.19983</td>\n",
       "      <td>272.97089</td>\n",
       "    </tr>\n",
       "    <tr>\n",
       "      <th>121136</th>\n",
       "      <td>4.35046</td>\n",
       "      <td>3.11395</td>\n",
       "      <td>274.59232</td>\n",
       "    </tr>\n",
       "  </tbody>\n",
       "</table>\n",
       "</div>"
      ],
      "text/plain": [
       "        U10_percentile_50  V10_percentile_50  T2_percentile_50\n",
       "121132           -8.93498           -1.34876         273.58032\n",
       "121133           -8.69047           -0.05067         272.04858\n",
       "121134           -7.48825           -2.31438         272.70273\n",
       "121135           -7.72428           -0.19983         272.97089\n",
       "121136            4.35046            3.11395         274.59232"
      ]
     },
     "execution_count": 17,
     "metadata": {},
     "output_type": "execute_result"
    }
   ],
   "source": [
    "#Print the last five rows of the selected columns\n",
    "samples.tail()"
   ]
  },
  {
   "cell_type": "markdown",
   "metadata": {},
   "source": [
    "***How to subset a dataframe*** \n",
    "\n",
    "There are multiple different ways to pull out specific values from a pandas dataframe. \n",
    "\n",
    "**Using variable names**"
   ]
  },
  {
   "cell_type": "code",
   "execution_count": 18,
   "metadata": {},
   "outputs": [
    {
     "name": "stdout",
     "output_type": "stream",
     "text": [
      "Inclusive last sample \n",
      "100   -1.41053\n",
      "101   -5.09471\n",
      "102   -2.25204\n",
      "103    2.11964\n",
      "104    2.75208\n",
      "105    0.76290\n",
      "Name: U10_percentile_50, dtype: float64\n",
      "\n",
      "Exclusive last sample \n",
      "100   -1.41053\n",
      "101   -5.09471\n",
      "102   -2.25204\n",
      "103    2.11964\n",
      "104    2.75208\n",
      "Name: U10_percentile_50, dtype: float64\n"
     ]
    }
   ],
   "source": [
    "#Subset the csv files based on row indices and a column name\n",
    "\n",
    "#Subsetting with an inclusive last row\n",
    "sliced_by_name_inclusive = csv_all_files.loc[100:105, 'U10_percentile_50']\n",
    "print('Inclusive last sample \\n{0}'.format(sliced_by_name_inclusive))\n",
    "\n",
    "#Subsetting with an exclusive last row\n",
    "sliced_by_name_exclusive = csv_all_files['U10_percentile_50'][100:105]\n",
    "print('\\nExclusive last sample \\n{0}'.format(sliced_by_name_exclusive))"
   ]
  },
  {
   "cell_type": "markdown",
   "metadata": {},
   "source": [
    "**Using variable indices**"
   ]
  },
  {
   "cell_type": "code",
   "execution_count": 21,
   "metadata": {},
   "outputs": [
    {
     "name": "stdout",
     "output_type": "stream",
     "text": [
      "100   -1.41053\n",
      "101   -5.09471\n",
      "102   -2.25204\n",
      "103    2.11964\n",
      "104    2.75208\n",
      "Name: U10_percentile_50, dtype: float64\n"
     ]
    }
   ],
   "source": [
    "#Subsetting based on indices values using \".iloc\"\n",
    "sliced_by_index = csv_all_files.iloc[100:105, 30]\n",
    "print(sliced_by_index)"
   ]
  },
  {
   "cell_type": "markdown",
   "metadata": {},
   "source": [
    "# Main takeaway: Pay attention to exclusivity when subsetting using pandas"
   ]
  },
  {
   "cell_type": "markdown",
   "metadata": {},
   "source": [
    "Once we have the desired variables selected it's easy to perform basic mathematical functions. \n",
    "\n",
    "***How to apply mathematical functions in pandas***"
   ]
  },
  {
   "cell_type": "code",
   "execution_count": 23,
   "metadata": {},
   "outputs": [
    {
     "name": "stdout",
     "output_type": "stream",
     "text": [
      "Mean: -0.5204433333333333\n",
      "Max: 2.75208\n",
      "Standard Deviation: 2.9678617189260463\n"
     ]
    }
   ],
   "source": [
    "#Find mean, max, and standard deviation\n",
    "print('Mean:', \n",
    "      sliced_by_name_inclusive.mean())\n",
    "print('Max:',\n",
    "      sliced_by_name_inclusive.max())\n",
    "print('Standard Deviation:', \n",
    "      sliced_by_name_inclusive.std())"
   ]
  },
  {
   "cell_type": "markdown",
   "metadata": {},
   "source": [
    "<br>\n",
    "<br>\n",
    "<br>\n",
    "\n",
    "## Reading netCDF4 files using xarray\n"
   ]
  },
  {
   "cell_type": "markdown",
   "metadata": {},
   "source": [
    "***First we will use glob to find all files ending in \".nc\" and save them in a sorted list*** "
   ]
  },
  {
   "cell_type": "code",
   "execution_count": 50,
   "metadata": {},
   "outputs": [
    {
     "name": "stdout",
     "output_type": "stream",
     "text": [
      "/Users/aburk/Documents/ams-2020-ml-python-course/data/track_data_ncar_ams_3km_nc_small/\n",
      "Number of netcdf files: 100\n"
     ]
    }
   ],
   "source": [
    "#Set \"nc_path\" to the location of the \"data\" folder.\n",
    "nc_path = \".../data/track_data_ncar_ams_3km_nc_small/\"\n",
    "print(nc_path)\n",
    "\n",
    "#Find all files in folder that end in \".nc\"\n",
    "nc_files = sorted(glob(nc_path+'*.nc'))\n",
    "print('Number of netcdf files:',len(nc_files))"
   ]
  },
  {
   "cell_type": "markdown",
   "metadata": {},
   "source": [
    "***How to read in all the netCDF files and save them to one xarray dataset***\n",
    "\n",
    "Xarray is different from pandas in that multiple datasets can be opened and read through one function. Also, the function can read the data in chunks for more efficient processes. "
   ]
  },
  {
   "cell_type": "code",
   "execution_count": 25,
   "metadata": {},
   "outputs": [
    {
     "data": {
      "text/html": [
       "<pre>&lt;xarray.Dataset&gt;\n",
       "Dimensions:            (col: 32, p: 1148, row: 32)\n",
       "Coordinates:\n",
       "  * col                (col) int32 0 1 2 3 4 5 6 7 8 ... 24 25 26 27 28 29 30 31\n",
       "  * row                (row) int32 0 1 2 3 4 5 6 7 8 ... 24 25 26 27 28 29 30 31\n",
       "  * p                  (p) int64 0 1 2 3 4 5 6 ... 1142 1143 1144 1145 1146 1147\n",
       "Data variables:\n",
       "    lon                (p, row, col) float32 dask.array&lt;chunksize=(100, 32, 32), meta=np.ndarray&gt;\n",
       "    lat                (p, row, col) float32 dask.array&lt;chunksize=(100, 32, 32), meta=np.ndarray&gt;\n",
       "    i                  (p, row, col) int32 dask.array&lt;chunksize=(100, 32, 32), meta=np.ndarray&gt;\n",
       "    j                  (p, row, col) int32 dask.array&lt;chunksize=(100, 32, 32), meta=np.ndarray&gt;\n",
       "    x                  (p, row, col) float32 dask.array&lt;chunksize=(100, 32, 32), meta=np.ndarray&gt;\n",
       "    y                  (p, row, col) float32 dask.array&lt;chunksize=(100, 32, 32), meta=np.ndarray&gt;\n",
       "    masks              (p, row, col) int32 dask.array&lt;chunksize=(100, 32, 32), meta=np.ndarray&gt;\n",
       "    time               (p) datetime64[ns] dask.array&lt;chunksize=(100,), meta=np.ndarray&gt;\n",
       "    centroid_lon       (p) float32 dask.array&lt;chunksize=(100,), meta=np.ndarray&gt;\n",
       "    centroid_lat       (p) float32 dask.array&lt;chunksize=(100,), meta=np.ndarray&gt;\n",
       "    centroid_i         (p) float32 dask.array&lt;chunksize=(100,), meta=np.ndarray&gt;\n",
       "    centroid_j         (p) float32 dask.array&lt;chunksize=(100,), meta=np.ndarray&gt;\n",
       "    track_id           (p) int32 dask.array&lt;chunksize=(100,), meta=np.ndarray&gt;\n",
       "    track_step         (p) int32 dask.array&lt;chunksize=(100,), meta=np.ndarray&gt;\n",
       "    REFL_COM_curr      (p, row, col) float32 dask.array&lt;chunksize=(100, 32, 32), meta=np.ndarray&gt;\n",
       "    U10_curr           (p, row, col) float32 dask.array&lt;chunksize=(100, 32, 32), meta=np.ndarray&gt;\n",
       "    V10_curr           (p, row, col) float32 dask.array&lt;chunksize=(100, 32, 32), meta=np.ndarray&gt;\n",
       "    T2_curr            (p, row, col) float32 dask.array&lt;chunksize=(100, 32, 32), meta=np.ndarray&gt;\n",
       "    RVORT1_MAX_future  (p, row, col) float32 dask.array&lt;chunksize=(100, 32, 32), meta=np.ndarray&gt;\n",
       "    HAIL_MAXK1_future  (p, row, col) float32 dask.array&lt;chunksize=(100, 32, 32), meta=np.ndarray&gt;\n",
       "Attributes:\n",
       "    Conventions:      CF-1.6\n",
       "    title:            NCARSTORM Storm Patches for run 20101024-0000 member d01\n",
       "    object_variable:  REFL_COM</pre>"
      ],
      "text/plain": [
       "<xarray.Dataset>\n",
       "Dimensions:            (col: 32, p: 1148, row: 32)\n",
       "Coordinates:\n",
       "  * col                (col) int32 0 1 2 3 4 5 6 7 8 ... 24 25 26 27 28 29 30 31\n",
       "  * row                (row) int32 0 1 2 3 4 5 6 7 8 ... 24 25 26 27 28 29 30 31\n",
       "  * p                  (p) int64 0 1 2 3 4 5 6 ... 1142 1143 1144 1145 1146 1147\n",
       "Data variables:\n",
       "    lon                (p, row, col) float32 dask.array<chunksize=(100, 32, 32), meta=np.ndarray>\n",
       "    lat                (p, row, col) float32 dask.array<chunksize=(100, 32, 32), meta=np.ndarray>\n",
       "    i                  (p, row, col) int32 dask.array<chunksize=(100, 32, 32), meta=np.ndarray>\n",
       "    j                  (p, row, col) int32 dask.array<chunksize=(100, 32, 32), meta=np.ndarray>\n",
       "    x                  (p, row, col) float32 dask.array<chunksize=(100, 32, 32), meta=np.ndarray>\n",
       "    y                  (p, row, col) float32 dask.array<chunksize=(100, 32, 32), meta=np.ndarray>\n",
       "    masks              (p, row, col) int32 dask.array<chunksize=(100, 32, 32), meta=np.ndarray>\n",
       "    time               (p) datetime64[ns] dask.array<chunksize=(100,), meta=np.ndarray>\n",
       "    centroid_lon       (p) float32 dask.array<chunksize=(100,), meta=np.ndarray>\n",
       "    centroid_lat       (p) float32 dask.array<chunksize=(100,), meta=np.ndarray>\n",
       "    centroid_i         (p) float32 dask.array<chunksize=(100,), meta=np.ndarray>\n",
       "    centroid_j         (p) float32 dask.array<chunksize=(100,), meta=np.ndarray>\n",
       "    track_id           (p) int32 dask.array<chunksize=(100,), meta=np.ndarray>\n",
       "    track_step         (p) int32 dask.array<chunksize=(100,), meta=np.ndarray>\n",
       "    REFL_COM_curr      (p, row, col) float32 dask.array<chunksize=(100, 32, 32), meta=np.ndarray>\n",
       "    U10_curr           (p, row, col) float32 dask.array<chunksize=(100, 32, 32), meta=np.ndarray>\n",
       "    V10_curr           (p, row, col) float32 dask.array<chunksize=(100, 32, 32), meta=np.ndarray>\n",
       "    T2_curr            (p, row, col) float32 dask.array<chunksize=(100, 32, 32), meta=np.ndarray>\n",
       "    RVORT1_MAX_future  (p, row, col) float32 dask.array<chunksize=(100, 32, 32), meta=np.ndarray>\n",
       "    HAIL_MAXK1_future  (p, row, col) float32 dask.array<chunksize=(100, 32, 32), meta=np.ndarray>\n",
       "Attributes:\n",
       "    Conventions:      CF-1.6\n",
       "    title:            NCARSTORM Storm Patches for run 20101024-0000 member d01\n",
       "    object_variable:  REFL_COM"
      ]
     },
     "execution_count": 25,
     "metadata": {},
     "output_type": "execute_result"
    }
   ],
   "source": [
    "#Reading netCDF patches in chunks of 100\n",
    "mxf = xr.open_mfdataset(nc_files,combine='by_coords',chunks={'p':100})\n",
    "mxf"
   ]
  },
  {
   "cell_type": "markdown",
   "metadata": {},
   "source": [
    "**Benefits of using xarray**\n",
    "\n",
    "1. Differing from reading in data using netCDF4.Dataset, the dimensions are labeled, making subetting easier.\n",
    "2. xarray integrates numpy and pandas for reading multidimensional data\n",
    "3. Application of dask when with xarray allows for better parallelization"
   ]
  },
  {
   "cell_type": "markdown",
   "metadata": {
    "collapsed": true
   },
   "source": [
    "***How to look at specific parts of a dataset***\n",
    "\n",
    "First we can explore the dataset variables"
   ]
  },
  {
   "cell_type": "code",
   "execution_count": 26,
   "metadata": {},
   "outputs": [
    {
     "data": {
      "text/plain": [
       "Data variables:\n",
       "    lon                (p, row, col) float32 dask.array<chunksize=(100, 32, 32), meta=np.ndarray>\n",
       "    lat                (p, row, col) float32 dask.array<chunksize=(100, 32, 32), meta=np.ndarray>\n",
       "    i                  (p, row, col) int32 dask.array<chunksize=(100, 32, 32), meta=np.ndarray>\n",
       "    j                  (p, row, col) int32 dask.array<chunksize=(100, 32, 32), meta=np.ndarray>\n",
       "    x                  (p, row, col) float32 dask.array<chunksize=(100, 32, 32), meta=np.ndarray>\n",
       "    y                  (p, row, col) float32 dask.array<chunksize=(100, 32, 32), meta=np.ndarray>\n",
       "    masks              (p, row, col) int32 dask.array<chunksize=(100, 32, 32), meta=np.ndarray>\n",
       "    time               (p) datetime64[ns] dask.array<chunksize=(100,), meta=np.ndarray>\n",
       "    centroid_lon       (p) float32 dask.array<chunksize=(100,), meta=np.ndarray>\n",
       "    centroid_lat       (p) float32 dask.array<chunksize=(100,), meta=np.ndarray>\n",
       "    centroid_i         (p) float32 dask.array<chunksize=(100,), meta=np.ndarray>\n",
       "    centroid_j         (p) float32 dask.array<chunksize=(100,), meta=np.ndarray>\n",
       "    track_id           (p) int32 dask.array<chunksize=(100,), meta=np.ndarray>\n",
       "    track_step         (p) int32 dask.array<chunksize=(100,), meta=np.ndarray>\n",
       "    REFL_COM_curr      (p, row, col) float32 dask.array<chunksize=(100, 32, 32), meta=np.ndarray>\n",
       "    U10_curr           (p, row, col) float32 dask.array<chunksize=(100, 32, 32), meta=np.ndarray>\n",
       "    V10_curr           (p, row, col) float32 dask.array<chunksize=(100, 32, 32), meta=np.ndarray>\n",
       "    T2_curr            (p, row, col) float32 dask.array<chunksize=(100, 32, 32), meta=np.ndarray>\n",
       "    RVORT1_MAX_future  (p, row, col) float32 dask.array<chunksize=(100, 32, 32), meta=np.ndarray>\n",
       "    HAIL_MAXK1_future  (p, row, col) float32 dask.array<chunksize=(100, 32, 32), meta=np.ndarray>"
      ]
     },
     "execution_count": 26,
     "metadata": {},
     "output_type": "execute_result"
    }
   ],
   "source": [
    "#Print the variables within the xarray dataset\n",
    "mxf.data_vars"
   ]
  },
  {
   "cell_type": "markdown",
   "metadata": {
    "collapsed": true
   },
   "source": [
    "We can reference back to specific variables within an xarray object as well as the dimensions, coordinates, and attributes of the variable. "
   ]
  },
  {
   "cell_type": "code",
   "execution_count": 27,
   "metadata": {},
   "outputs": [
    {
     "name": "stdout",
     "output_type": "stream",
     "text": [
      "Dimensions: ('p', 'row', 'col')\n",
      "\n",
      "Coords: Coordinates:\n",
      "  * col      (col) int32 0 1 2 3 4 5 6 7 8 9 ... 22 23 24 25 26 27 28 29 30 31\n",
      "  * row      (row) int32 0 1 2 3 4 5 6 7 8 9 ... 22 23 24 25 26 27 28 29 30 31\n",
      "  * p        (p) int64 0 1 2 3 4 5 6 7 ... 1141 1142 1143 1144 1145 1146 1147\n",
      "\n",
      "Attributes: {'long_name': 'U10', 'units': ''}\n"
     ]
    }
   ],
   "source": [
    "#Subset dataset by a specific variable\n",
    "u_10_meter = mxf['U10_curr']\n",
    "\n",
    "#Output the dimensions, coordinates, and attributes of a single variable\n",
    "print (\"Dimensions:\",u_10_meter.dims)\n",
    "print (\"\\nCoords:\",u_10_meter.coords)\n",
    "print (\"\\nAttributes:\",u_10_meter.attrs)"
   ]
  },
  {
   "cell_type": "markdown",
   "metadata": {
    "collapsed": true
   },
   "source": [
    "We can also access a variable as an attribute."
   ]
  },
  {
   "cell_type": "code",
   "execution_count": 28,
   "metadata": {},
   "outputs": [
    {
     "data": {
      "text/html": [
       "<pre>&lt;xarray.DataArray &#x27;U10_curr&#x27; (p: 1148, row: 32, col: 32)&gt;\n",
       "dask.array&lt;open_dataset-c60a2c8999ed2fd28724e2b4bcbb6869U10_curr, shape=(1148, 32, 32), dtype=float32, chunksize=(100, 32, 32)&gt;\n",
       "Coordinates:\n",
       "  * col      (col) int32 0 1 2 3 4 5 6 7 8 9 ... 22 23 24 25 26 27 28 29 30 31\n",
       "  * row      (row) int32 0 1 2 3 4 5 6 7 8 9 ... 22 23 24 25 26 27 28 29 30 31\n",
       "  * p        (p) int64 0 1 2 3 4 5 6 7 ... 1141 1142 1143 1144 1145 1146 1147\n",
       "Attributes:\n",
       "    long_name:  U10\n",
       "    units:      </pre>"
      ],
      "text/plain": [
       "<xarray.DataArray 'U10_curr' (p: 1148, row: 32, col: 32)>\n",
       "dask.array<open_dataset-c60a2c8999ed2fd28724e2b4bcbb6869U10_curr, shape=(1148, 32, 32), dtype=float32, chunksize=(100, 32, 32)>\n",
       "Coordinates:\n",
       "  * col      (col) int32 0 1 2 3 4 5 6 7 8 9 ... 22 23 24 25 26 27 28 29 30 31\n",
       "  * row      (row) int32 0 1 2 3 4 5 6 7 8 9 ... 22 23 24 25 26 27 28 29 30 31\n",
       "  * p        (p) int64 0 1 2 3 4 5 6 7 ... 1141 1142 1143 1144 1145 1146 1147\n",
       "Attributes:\n",
       "    long_name:  U10\n",
       "    units:      "
      ]
     },
     "execution_count": 28,
     "metadata": {},
     "output_type": "execute_result"
    }
   ],
   "source": [
    "#Subset dataset for a single variable\n",
    "mxf.U10_curr"
   ]
  },
  {
   "cell_type": "markdown",
   "metadata": {},
   "source": [
    "***How to subset an xarray dataset***\n",
    "\n",
    "Subsetting variables in xarray is similar to numpy and pandas. "
   ]
  },
  {
   "cell_type": "code",
   "execution_count": 29,
   "metadata": {},
   "outputs": [
    {
     "data": {
      "text/html": [
       "<pre>&lt;xarray.DataArray &#x27;U10_curr&#x27; (row: 32, col: 32)&gt;\n",
       "dask.array&lt;getitem, shape=(32, 32), dtype=float32, chunksize=(32, 32)&gt;\n",
       "Coordinates:\n",
       "  * col      (col) int32 0 1 2 3 4 5 6 7 8 9 ... 22 23 24 25 26 27 28 29 30 31\n",
       "  * row      (row) int32 0 1 2 3 4 5 6 7 8 9 ... 22 23 24 25 26 27 28 29 30 31\n",
       "    p        int64 0\n",
       "Attributes:\n",
       "    long_name:  U10\n",
       "    units:      </pre>"
      ],
      "text/plain": [
       "<xarray.DataArray 'U10_curr' (row: 32, col: 32)>\n",
       "dask.array<getitem, shape=(32, 32), dtype=float32, chunksize=(32, 32)>\n",
       "Coordinates:\n",
       "  * col      (col) int32 0 1 2 3 4 5 6 7 8 9 ... 22 23 24 25 26 27 28 29 30 31\n",
       "  * row      (row) int32 0 1 2 3 4 5 6 7 8 9 ... 22 23 24 25 26 27 28 29 30 31\n",
       "    p        int64 0\n",
       "Attributes:\n",
       "    long_name:  U10\n",
       "    units:      "
      ]
     },
     "execution_count": 29,
     "metadata": {},
     "output_type": "execute_result"
    }
   ],
   "source": [
    "#Select first sample\n",
    "u_10_meter[0,:,:]"
   ]
  },
  {
   "cell_type": "markdown",
   "metadata": {},
   "source": [
    "**Notice that the patch dimension \"p\" now only has one coordinate.**\n",
    "\n",
    "Another method to select a single dimension is to use \"isel\"."
   ]
  },
  {
   "cell_type": "code",
   "execution_count": 30,
   "metadata": {},
   "outputs": [
    {
     "data": {
      "text/html": [
       "<pre>&lt;xarray.DataArray &#x27;U10_curr&#x27; (row: 32, col: 32)&gt;\n",
       "dask.array&lt;getitem, shape=(32, 32), dtype=float32, chunksize=(32, 32)&gt;\n",
       "Coordinates:\n",
       "  * col      (col) int32 0 1 2 3 4 5 6 7 8 9 ... 22 23 24 25 26 27 28 29 30 31\n",
       "  * row      (row) int32 0 1 2 3 4 5 6 7 8 9 ... 22 23 24 25 26 27 28 29 30 31\n",
       "    p        int64 0\n",
       "Attributes:\n",
       "    long_name:  U10\n",
       "    units:      </pre>"
      ],
      "text/plain": [
       "<xarray.DataArray 'U10_curr' (row: 32, col: 32)>\n",
       "dask.array<getitem, shape=(32, 32), dtype=float32, chunksize=(32, 32)>\n",
       "Coordinates:\n",
       "  * col      (col) int32 0 1 2 3 4 5 6 7 8 9 ... 22 23 24 25 26 27 28 29 30 31\n",
       "  * row      (row) int32 0 1 2 3 4 5 6 7 8 9 ... 22 23 24 25 26 27 28 29 30 31\n",
       "    p        int64 0\n",
       "Attributes:\n",
       "    long_name:  U10\n",
       "    units:      "
      ]
     },
     "execution_count": 30,
     "metadata": {},
     "output_type": "execute_result"
    }
   ],
   "source": [
    "#Select the first sample of the \"p\" dimension\n",
    "u_10_meter.isel(p=0)"
   ]
  },
  {
   "cell_type": "markdown",
   "metadata": {},
   "source": [
    "We can use \"sel\" for multidimensional slices."
   ]
  },
  {
   "cell_type": "code",
   "execution_count": 41,
   "metadata": {},
   "outputs": [
    {
     "name": "stdout",
     "output_type": "stream",
     "text": [
      "Using \"sel\" notation\n",
      "\n",
      " <xarray.DataArray 'U10_curr' (row: 4, col: 6)>\n",
      "dask.array<getitem, shape=(4, 6), dtype=float32, chunksize=(4, 6)>\n",
      "Coordinates:\n",
      "  * col      (col) int32 25 26 27 28 29 30\n",
      "  * row      (row) int32 2 3 4 5\n",
      "    p        int64 0\n",
      "Attributes:\n",
      "    long_name:  U10\n",
      "    units:      \n",
      "\n",
      "\n",
      "\n",
      "Using \"slice\" notation\n",
      "\n",
      " <xarray.DataArray 'U10_curr' (row: 3, col: 5)>\n",
      "dask.array<getitem, shape=(3, 5), dtype=float32, chunksize=(3, 5)>\n",
      "Coordinates:\n",
      "  * col      (col) int32 25 26 27 28 29\n",
      "  * row      (row) int32 2 3 4\n",
      "    p        int64 0\n",
      "Attributes:\n",
      "    long_name:  U10\n",
      "    units:      \n"
     ]
    }
   ],
   "source": [
    "#Select the first sample of the \"p\" dimension, and slices of the \"row\" and \"column\" dimensions\n",
    "using_sel_notation = u_10_meter.sel(p=0,row=slice(2,5),col=slice(25,30))\n",
    "using_slice_notation = u_10_meter[0,2:5,25:30]\n",
    "\n",
    "print('Using \"sel\" notation\\n\\n', using_sel_notation)\n",
    "print('\\n\\n\\nUsing \"slice\" notation\\n\\n', using_slice_notation)"
   ]
  },
  {
   "cell_type": "markdown",
   "metadata": {},
   "source": [
    "## Notice that the slicing notation is exclusive of the col and row dimensions, while using \"sel\" is inclusive. Another benefit of \"sel\" is the explicit dimension notation."
   ]
  },
  {
   "cell_type": "markdown",
   "metadata": {},
   "source": [
    "If a datapoint is not known, xarray will find the nearest point with the \"method\" argument."
   ]
  },
  {
   "cell_type": "code",
   "execution_count": 42,
   "metadata": {},
   "outputs": [
    {
     "data": {
      "text/html": [
       "<pre>&lt;xarray.DataArray &#x27;U10_curr&#x27; ()&gt;\n",
       "dask.array&lt;getitem, shape=(), dtype=float32, chunksize=()&gt;\n",
       "Coordinates:\n",
       "    col      int32 4\n",
       "    row      int32 2\n",
       "    p        int64 0\n",
       "Attributes:\n",
       "    long_name:  U10\n",
       "    units:      </pre>"
      ],
      "text/plain": [
       "<xarray.DataArray 'U10_curr' ()>\n",
       "dask.array<getitem, shape=(), dtype=float32, chunksize=()>\n",
       "Coordinates:\n",
       "    col      int32 4\n",
       "    row      int32 2\n",
       "    p        int64 0\n",
       "Attributes:\n",
       "    long_name:  U10\n",
       "    units:      "
      ]
     },
     "execution_count": 42,
     "metadata": {},
     "output_type": "execute_result"
    }
   ],
   "source": [
    "#Select sample based on approximate dimension values\n",
    "u_10_meter.sel(p=0.1,row=2.2,col=3.8,method='nearest')"
   ]
  },
  {
   "cell_type": "markdown",
   "metadata": {},
   "source": [
    "***How to apply mathematical functions in xarray***"
   ]
  },
  {
   "cell_type": "code",
   "execution_count": 43,
   "metadata": {},
   "outputs": [
    {
     "name": "stdout",
     "output_type": "stream",
     "text": [
      "Mean:\n",
      " [[-3.19075   -3.2368271 -3.278512  ... -4.2089367 -4.220905  -4.239361 ]\n",
      " [-3.2081819 -3.2610576 -3.3101106 ... -4.2183404 -4.2250295 -4.242539 ]\n",
      " [-3.2242923 -3.2820752 -3.3335173 ... -4.22195   -4.241975  -4.257126 ]\n",
      " ...\n",
      " [-3.51736   -3.5732021 -3.6408029 ... -4.3808393 -4.4212193 -4.4655366]\n",
      " [-3.5538058 -3.6072161 -3.6636112 ... -4.36216   -4.406422  -4.4715137]\n",
      " [-3.5924418 -3.64502   -3.6792133 ... -4.355662  -4.4014835 -4.467492 ]]\n",
      "\n",
      "Max:\n",
      " [[11.066983 11.338459 13.31417  ... 13.119595 12.750058 11.168697]\n",
      " [11.168777 10.706363 11.256745 ... 14.324003 12.429451 11.155299]\n",
      " [10.567234 10.698712 10.361871 ... 14.192873 12.871518 10.269581]\n",
      " ...\n",
      " [12.239425 12.031074 11.661358 ... 10.912283 11.937877 10.79758 ]\n",
      " [11.57546  11.519002 11.328221 ... 12.781237 12.568933 10.617296]\n",
      " [11.369741 11.114453 10.9717   ... 13.726644 12.175067 12.604885]]\n",
      "\n",
      "Standard Deviation:\n",
      " [[5.225477  5.2372556 5.248325  ... 4.8682513 4.86427   4.8627543]\n",
      " [5.2280555 5.22794   5.2279778 ... 4.880929  4.863211  4.851554 ]\n",
      " [5.2456727 5.2216983 5.2132287 ... 4.9074416 4.8749833 4.8397365]\n",
      " ...\n",
      " [5.100876  5.1167455 5.109069  ... 4.627854  4.6117496 4.5660944]\n",
      " [5.0759006 5.0790935 5.090359  ... 4.659234  4.637133  4.5768476]\n",
      " [5.0457373 5.039686  5.0606585 ... 4.686456  4.6507187 4.5827327]]\n"
     ]
    }
   ],
   "source": [
    "#Output the mean, max, and standard deviation of the \"p\" dimension\n",
    "print('Mean:\\n',u_10_meter.mean(dim='p').values)\n",
    "print('\\nMax:\\n',u_10_meter.max(dim='p').values)\n",
    "print('\\nStandard Deviation:\\n',u_10_meter.std(dim='p').values)"
   ]
  },
  {
   "cell_type": "markdown",
   "metadata": {},
   "source": [
    "<br>\n",
    "<br>\n",
    "<br>\n",
    "\n",
    "##  Data Visualization"
   ]
  },
  {
   "cell_type": "markdown",
   "metadata": {},
   "source": [
    "We can plot different figures using built-in functions, seaborn, cartopy, and matplotlib. One benefit of seaborn is that it includes a colorblind palette. "
   ]
  },
  {
   "cell_type": "markdown",
   "metadata": {},
   "source": [
    "***How to plot data using built-in functions***\n",
    "\n",
    "Both pandas and xarray come with built-in matplotlib plotting functions to quickly look at the data. "
   ]
  },
  {
   "cell_type": "code",
   "execution_count": 44,
   "metadata": {},
   "outputs": [
    {
     "data": {
      "text/plain": [
       "Text(0.5, 0, 'Sample')"
      ]
     },
     "execution_count": 44,
     "metadata": {},
     "output_type": "execute_result"
    },
    {
     "data": {
      "image/png": "[encoded data removed]",
      "text/plain": [
       "<Figure size 432x288 with 1 Axes>"
      ]
     },
     "metadata": {
      "needs_background": "light"
     },
     "output_type": "display_data"
    }
   ],
   "source": [
    "#Subset csv files on variable \"U10_percentile_50\" and plot the results\n",
    "csv_all_files['U10_percentile_50'].plot()\n",
    "plt.ylabel(\"10 meter U Wind\")\n",
    "plt.xlabel(\"Sample\")"
   ]
  },
  {
   "cell_type": "markdown",
   "metadata": {},
   "source": [
    "**Xarray will plot the given data based on the shape of its dimensions.**"
   ]
  },
  {
   "cell_type": "code",
   "execution_count": 47,
   "metadata": {},
   "outputs": [
    {
     "name": "stdout",
     "output_type": "stream",
     "text": [
      "Shape:\n",
      " (32, 32)\n"
     ]
    },
    {
     "data": {
      "text/plain": [
       "<matplotlib.collections.QuadMesh at 0x22272132e48>"
      ]
     },
     "execution_count": 47,
     "metadata": {},
     "output_type": "execute_result"
    },
    {
     "data": {
      "image/png": "[encoded data removed]",
      "text/plain": [
       "<Figure size 540x360 with 2 Axes>"
      ]
     },
     "metadata": {
      "needs_background": "light"
     },
     "output_type": "display_data"
    }
   ],
   "source": [
    "#Subset nc files on variable \"U10_curr\" and the first \"p\" dimension, plot the results\n",
    "data_slice = mxf['U10_curr'].isel(p=0)\n",
    "print('Shape:\\n', np.shape(data_slice))\n",
    "data_slice.plot(size=5)"
   ]
  },
  {
   "cell_type": "code",
   "execution_count": 51,
   "metadata": {},
   "outputs": [
    {
     "name": "stdout",
     "output_type": "stream",
     "text": [
      "Shape:\n",
      " (11, 4, 6)\n"
     ]
    },
    {
     "data": {
      "text/plain": [
       "(array([19., 92., 30., 22., 38.,  4.,  1., 16., 18., 24.]),\n",
       " array([-7.8749013 , -6.5570483 , -5.239195  , -3.921342  , -2.6034887 ,\n",
       "        -1.2856355 ,  0.03221769,  1.3500708 ,  2.667924  ,  3.9857771 ,\n",
       "         5.3036304 ], dtype=float32),\n",
       " <a list of 10 Patch objects>)"
      ]
     },
     "execution_count": 51,
     "metadata": {},
     "output_type": "execute_result"
    },
    {
     "data": {
      "image/png": "[encoded data removed]",
      "text/plain": [
       "<Figure size 540x360 with 1 Axes>"
      ]
     },
     "metadata": {
      "needs_background": "light"
     },
     "output_type": "display_data"
    }
   ],
   "source": [
    "#Subset nc files on variable \"U10_curr\", slice \"p\",\"row\" and \"column\" dimensions, and plot the result\n",
    "data_slice = mxf['U10_curr'].sel(p=slice(0,10),\n",
    "               row=slice(2,5),\n",
    "               col=slice(25,30))\n",
    "print('Shape:\\n', np.shape(data_slice))\n",
    "data_slice.plot(size=5)"
   ]
  },
  {
   "cell_type": "code",
   "execution_count": 52,
   "metadata": {},
   "outputs": [
    {
     "name": "stdout",
     "output_type": "stream",
     "text": [
      "Shape:\n",
      " (11,)\n"
     ]
    },
    {
     "data": {
      "text/plain": [
       "[<matplotlib.lines.Line2D at 0x22269494b70>]"
      ]
     },
     "execution_count": 52,
     "metadata": {},
     "output_type": "execute_result"
    },
    {
     "data": {
      "image/png": "[encoded data removed]",
      "text/plain": [
       "<Figure size 540x360 with 1 Axes>"
      ]
     },
     "metadata": {
      "needs_background": "light"
     },
     "output_type": "display_data"
    }
   ],
   "source": [
    "#Subset nc files on variable \"U10_curr\", slice \"p\" dimension, and select certain \"row\" and \"column\" dimension values\n",
    "#Plot the result\n",
    "data_slice = mxf['U10_curr'].sel(p=slice(0,10)).sel(row=2,col=4)\n",
    "print('Shape:\\n', np.shape(data_slice))\n",
    "data_slice.plot(size=5)"
   ]
  },
  {
   "cell_type": "markdown",
   "metadata": {},
   "source": [
    "***How to plot data using seaborn***\n",
    "\n",
    "Let's start by plotting the CSV data with seaborn."
   ]
  },
  {
   "cell_type": "code",
   "execution_count": 53,
   "metadata": {},
   "outputs": [
    {
     "data": {
      "text/plain": [
       "<matplotlib.axes._subplots.AxesSubplot at 0x222697887b8>"
      ]
     },
     "execution_count": 53,
     "metadata": {},
     "output_type": "execute_result"
    },
    {
     "data": {
      "image/png": "[encoded data removed]",
      "text/plain": [
       "<Figure size 432x288 with 1 Axes>"
      ]
     },
     "metadata": {},
     "output_type": "display_data"
    }
   ],
   "source": [
    "#Subset csv data on variables \"U10_percentile_50\" and \"V10_percentile_50\"\n",
    "seaborn_plotting_data = csv_all_files.loc[:,\n",
    "                        ['U10_percentile_50','V10_percentile_50']]\n",
    "\n",
    "#Set the color palette as \"colorblind\" for inclusivity \n",
    "sns.set_palette(\"colorblind\")\n",
    "\n",
    "#Set the backdrop grid style\n",
    "sns.set(style=\"whitegrid\")\n",
    "\n",
    "#Plot a horizontally oriented boxplot \n",
    "sns.boxplot(data=seaborn_plotting_data,orient=\"h\")"
   ]
  },
  {
   "cell_type": "code",
   "execution_count": 54,
   "metadata": {},
   "outputs": [
    {
     "data": {
      "text/plain": [
       "<matplotlib.axes._subplots.AxesSubplot at 0x22269536160>"
      ]
     },
     "execution_count": 54,
     "metadata": {},
     "output_type": "execute_result"
    },
    {
     "data": {
      "image/png": "[encoded data removed]",
      "text/plain": [
       "<Figure size 432x288 with 1 Axes>"
      ]
     },
     "metadata": {},
     "output_type": "display_data"
    }
   ],
   "source": [
    "#Plot a horizontally oriented violinplot\n",
    "sns.violinplot(data=seaborn_plotting_data,orient=\"h\")"
   ]
  },
  {
   "cell_type": "markdown",
   "metadata": {},
   "source": [
    "We can also plot the netCDF data using seaborn. One interesting way is using a pairplot."
   ]
  },
  {
   "cell_type": "code",
   "execution_count": 55,
   "metadata": {},
   "outputs": [
    {
     "data": {
      "text/plain": [
       "<seaborn.axisgrid.PairGrid at 0x222686d97b8>"
      ]
     },
     "execution_count": 55,
     "metadata": {},
     "output_type": "execute_result"
    },
    {
     "data": {
      "image/png": "[encoded data removed]",
      "text/plain": [
       "<Figure size 360x360 with 6 Axes>"
      ]
     },
     "metadata": {},
     "output_type": "display_data"
    }
   ],
   "source": [
    "#Convert xarray dataset to pandas dataframe\n",
    "df = mxf.to_dataframe()\n",
    " \n",
    "#Plot pairplot of variables \"U10_curr\" and \"V10_curr\"\n",
    "sns.pairplot(df.reset_index(), vars=['U10_curr','V10_curr'])"
   ]
  },
  {
   "cell_type": "markdown",
   "metadata": {},
   "source": [
    "***How to plot data using matplolib***\n",
    "\n",
    "One plot that can be useful in combining multiple datasets is a quiver plot. We will look at this with the patch data from the netCDF files. "
   ]
  },
  {
   "cell_type": "code",
   "execution_count": 56,
   "metadata": {},
   "outputs": [
    {
     "data": {
      "text/plain": [
       "<matplotlib.colorbar.Colorbar at 0x22271f3d908>"
      ]
     },
     "execution_count": 56,
     "metadata": {},
     "output_type": "execute_result"
    },
    {
     "data": {
      "image/png": "[encoded data removed]",
      "text/plain": [
       "<Figure size 432x288 with 2 Axes>"
      ]
     },
     "metadata": {},
     "output_type": "display_data"
    }
   ],
   "source": [
    "#Set stride and patch variables\n",
    "stride = 2\n",
    "patch = 0\n",
    "\n",
    "#Subset xarray dataset for given variables\n",
    "v = mxf['V10_curr']\n",
    "u = mxf['U10_curr']\n",
    "r = mxf['row']\n",
    "c = mxf['col']\n",
    "\n",
    "#Plot contours of nc variable \"REFL_COM_curr\" on the patch variable dimension\n",
    "cf = plt.contour(mxf[\"REFL_COM_curr\"].sel(p=patch))\n",
    "\n",
    "#Plot quiver barbs on subset nc variables, indexing based on stride variable\n",
    "plt.barbs(r[::stride], \n",
    "           c[::stride],\n",
    "           u.sel(p=patch)[::stride, ::stride], \n",
    "           v.sel(p=200)[::stride, ::stride],\n",
    "           length=5, pivot='middle')\n",
    "\n",
    "#Plot colorbar of contour plot\n",
    "plt.colorbar(cf)"
   ]
  },
  {
   "cell_type": "markdown",
   "metadata": {},
   "source": [
    "***How to plot data using cartopy***\n",
    "\n",
    "Let's look at the CSV data, plotting the spatial frequency of the hourly maximum vertical vorticity at 1 km above ground level in s$^{-1}$"
   ]
  },
  {
   "cell_type": "code",
   "execution_count": null,
   "metadata": {},
   "outputs": [],
   "source": [
    "#Create figure of specific size\n",
    "fig = plt.figure(figsize=(8, 4))\n",
    "\n",
    "#Set up plot projection and features\n",
    "ax = fig.add_subplot(1, 1, 1, projection=ccrs.LambertConformal())\n",
    "ax.add_feature(cf.LAND)  \n",
    "ax.add_feature(cf.COASTLINE)   \n",
    "ax.add_feature(cf.BORDERS.with_scale('50m'),linestyle='-', edgecolor='black')\n",
    "ax.add_feature(cf.STATES.with_scale('50m'),linestyle='-', edgecolor='black')\n",
    "\n",
    "#Only plot values where the hourly maximum vertical vorticiy is greater than 0.005\n",
    "indices = csv_all_files['RVORT1_MAX-future_max'] > 0.005\n",
    "longitudes = csv_all_files.loc[indices, \"Centroid_Lon\"].values\n",
    "latitudes = csv_all_files.loc[indices,\"Centroid_Lat\"].values\n",
    "\n",
    "#Plot points as a 2D histogram\n",
    "sf = ax.hist2d(longitudes, latitudes, bins=30,\n",
    "               transform=ccrs.PlateCarree(), cmin=1)\n",
    "\n",
    "#Set the viewable extent, over the CONUS in this instance\n",
    "ax.set_extent([-125, -66.5, 20, 50],crs=ccrs.PlateCarree())\n",
    "\n",
    "#Plot colorbar and title\n",
    "plt.colorbar(sf[-1])\n",
    "plt.title(\"Hourly Maximum Vertical Vorticity Spatial Frequency\")"
   ]
  },
  {
   "cell_type": "markdown",
   "metadata": {},
   "source": [
    "Now let's use cartopy to plot the netCDF data."
   ]
  },
  {
   "cell_type": "code",
   "execution_count": 60,
   "metadata": {
    "scrolled": false
   },
   "outputs": [
    {
     "data": {
      "image/png": "[encoded data removed]",
      "text/plain": [
       "<Figure size 576x288 with 2 Axes>"
      ]
     },
     "metadata": {},
     "output_type": "display_data"
    },
    {
     "data": {
      "image/png": "[encoded data removed]",
      "text/plain": [
       "<Figure size 576x288 with 2 Axes>"
      ]
     },
     "metadata": {},
     "output_type": "display_data"
    }
   ],
   "source": [
    "patch = 0 \n",
    "#zoom factor is how many degrees a zoomed-in box \n",
    "#should be in the horizontal and vertical\n",
    "zoom_factor = 0.5\n",
    "\n",
    "#Set the viewable extent over the conus and zoomed-in area\n",
    "conus_extent = [-125, -66.5, 20, 50]\n",
    "zoomed_extent = [mxf.lon[patch,0,0]-zoom_factor,\n",
    "                mxf.lon[patch,-1,-1]+zoom_factor,\n",
    "                mxf.lat[patch,0,0]-zoom_factor,\n",
    "                mxf.lat[patch,-1,-1]+zoom_factor]\n",
    "\n",
    "#Create lists of extents\n",
    "extent_list = [conus_extent,zoomed_extent]\n",
    "\n",
    "#Create subplots of conus and zoomed in plots\n",
    "for index, extent in enumerate(extent_list):\n",
    "    \n",
    "    #Setup plot projection\n",
    "    fig = plt.figure(figsize=(8,4))\n",
    "    ax = plt.axes(projection=ccrs.PlateCarree())\n",
    "    ax.add_feature(cf.COASTLINE.with_scale('50m'))\n",
    "    ax.add_feature(cf.STATES.with_scale('50m'))\n",
    "    \n",
    "    #set extent for the given subplot\n",
    "    ax.set_extent(extent, crs=ccrs.PlateCarree())\n",
    "    \n",
    "    #contour \"U10_curr\" variable for a given patch\n",
    "    cs = plt.contourf(mxf.lon[patch],\n",
    "                      mxf.lat[patch],\n",
    "                      mxf.U10_curr[patch],\n",
    "                      transform=ccrs.PlateCarree())\n",
    "    \n",
    "    #Plot colorbar and label with the nc variable attributes\n",
    "    cbar = plt.colorbar(cs,orientation='horizontal',ax=ax)\n",
    "    cbar.set_label(mxf.U10_curr.attrs)\n",
    "    plt.show()\n",
    "    plt.close()"
   ]
  },
  {
   "cell_type": "markdown",
   "metadata": {},
   "source": [
    "<br>\n",
    "<br>\n",
    "<br>\n",
    "\n",
    "# 4. Data Pre-processing\n",
    "\n",
    "## Data Transformations\n",
    "\n",
    "For these examples, we will use the pandas dataframe object. "
   ]
  },
  {
   "cell_type": "markdown",
   "metadata": {},
   "source": [
    "***How to handle Nan values using pandas***\n",
    "\n",
    "Taking care of missing values is important when pre-processing data to input into ML models. Handling NaN values are easy within a pandas dataframe. First lets add missing values to our dataset."
   ]
  },
  {
   "cell_type": "code",
   "execution_count": 79,
   "metadata": {},
   "outputs": [
    {
     "name": "stdout",
     "output_type": "stream",
     "text": [
      "Before adding unknown values: \n",
      "100   -1.41053\n",
      "101   -5.09471\n",
      "102   -2.25204\n",
      "103    2.11964\n",
      "104    2.75208\n",
      "105    0.76290\n",
      "Name: U10_percentile_50, dtype: float64\n",
      "\n",
      "After adding unknown values: \n",
      "100   -1.41053\n",
      "101        NaN\n",
      "102   -2.25204\n",
      "103    2.11964\n",
      "104        inf\n",
      "105    0.76290\n",
      "Name: U10_percentile_50, dtype: float64\n"
     ]
    }
   ],
   "source": [
    "#Copy pandas dataframe\n",
    "copied_data = csv_all_files.copy(deep=True)\n",
    "\n",
    "#Slice dataframe\n",
    "unknown_sliced_data = copied_data.loc[100:105,'U10_percentile_50']\n",
    "\n",
    "#Add NaN and inf values\n",
    "print('Before adding unknown values: \\n'+ str(unknown_sliced_data))\n",
    "unknown_sliced_data[101] = np.nan\n",
    "unknown_sliced_data[104] = np.inf\n",
    "print(\"\\nAfter adding unknown values: \\n\" + str(unknown_sliced_data))"
   ]
  },
  {
   "cell_type": "markdown",
   "metadata": {},
   "source": [
    "Two important methods that are useful for handling NaNs are \"dropna()\" and \"fillna()\". Choosing a function depends on the dataset and problem definition."
   ]
  },
  {
   "cell_type": "code",
   "execution_count": 72,
   "metadata": {
    "scrolled": true
   },
   "outputs": [
    {
     "name": "stdout",
     "output_type": "stream",
     "text": [
      "Dropping NaNs: \n",
      "100   -1.41053\n",
      "102   -2.25204\n",
      "103    2.11964\n",
      "104        inf\n",
      "105    0.76290\n",
      "Name: U10_percentile_50, dtype: float64\n"
     ]
    }
   ],
   "source": [
    "#Drop any NaN values\n",
    "print('Dropping NaNs: \\n' +str(unknown_sliced_data.dropna(how='any')))"
   ]
  },
  {
   "cell_type": "code",
   "execution_count": 75,
   "metadata": {},
   "outputs": [
    {
     "name": "stdout",
     "output_type": "stream",
     "text": [
      "Fill NaNs with value: \n",
      "100   -1.41053\n",
      "101    0.00000\n",
      "102   -2.25204\n",
      "103    2.11964\n",
      "104        inf\n",
      "105    0.76290\n",
      "Name: U10_percentile_50, dtype: float64\n"
     ]
    }
   ],
   "source": [
    "#Fill NaN values with a specific number\n",
    "print('Fill NaNs with value: \\n'+ str(unknown_sliced_data.fillna(0)))"
   ]
  },
  {
   "cell_type": "markdown",
   "metadata": {},
   "source": [
    "In addition to filling in with a specific value, fillna() also allows for forward and backfilling. Forward filing fills in the NaN with the previous sample, while backfilling fills in with the next sample. "
   ]
  },
  {
   "cell_type": "code",
   "execution_count": 76,
   "metadata": {},
   "outputs": [
    {
     "name": "stdout",
     "output_type": "stream",
     "text": [
      "Forward filling NaNs: \n",
      "100   -1.41053\n",
      "101   -1.41053\n",
      "102   -2.25204\n",
      "103    2.11964\n",
      "104        inf\n",
      "105    0.76290\n",
      "Name: U10_percentile_50, dtype: float64\n",
      "\n",
      "Backfilling NaNs: \n",
      "100   -1.41053\n",
      "101   -2.25204\n",
      "102   -2.25204\n",
      "103    2.11964\n",
      "104        inf\n",
      "105    0.76290\n",
      "Name: U10_percentile_50, dtype: float64\n"
     ]
    }
   ],
   "source": [
    "#Forward and backfill NaN values\n",
    "print('Forward filling NaNs: \\n' + str(unknown_sliced_data.fillna(method='ffill')))\n",
    "print('\\nBackfilling NaNs: \\n' + str(unknown_sliced_data.fillna(method='backfill')))"
   ]
  },
  {
   "cell_type": "markdown",
   "metadata": {},
   "source": [
    "***How to handle inf values using pandas***\n",
    "\n",
    "Pandas does not have a direct function to handle infinity values, but its easy to change inf to NaN and use the same functions previously described."
   ]
  },
  {
   "cell_type": "code",
   "execution_count": 80,
   "metadata": {
    "scrolled": false
   },
   "outputs": [
    {
     "name": "stdout",
     "output_type": "stream",
     "text": [
      "Original data: \n",
      "100   -1.41053\n",
      "101        NaN\n",
      "102   -2.25204\n",
      "103    2.11964\n",
      "104        inf\n",
      "105    0.76290\n",
      "Name: U10_percentile_50, dtype: float64\n",
      "\n",
      "Replaced data: \n",
      "100   -1.41053\n",
      "101        NaN\n",
      "102   -2.25204\n",
      "103    2.11964\n",
      "104        NaN\n",
      "105    0.76290\n",
      "Name: U10_percentile_50, dtype: float64\n",
      "\n",
      "Fill NaN with value: \n",
      "100   -1.41053\n",
      "101    0.00000\n",
      "102   -2.25204\n",
      "103    2.11964\n",
      "104    0.00000\n",
      "105    0.76290\n",
      "Name: U10_percentile_50, dtype: float64\n"
     ]
    }
   ],
   "source": [
    "print('Original data: \\n' + str(unknown_sliced_data))\n",
    "\n",
    "# Replace np.inf with np.nan\n",
    "unknown_sliced_data.replace(np.inf,np.nan,inplace=True)\n",
    "print('\\nReplaced data: \\n'+ str(unknown_sliced_data))\n",
    "\n",
    "# Fill in NaN with 0\n",
    "print('\\nFill NaN with value: \\n' + str(unknown_sliced_data.fillna(0)))"
   ]
  },
  {
   "cell_type": "markdown",
   "metadata": {},
   "source": [
    "***How to handle NaN and inf with xarray***\n",
    "\n",
    "As xarray functions are built off pandas, there are similar methods to handle missing values."
   ]
  },
  {
   "cell_type": "code",
   "execution_count": 84,
   "metadata": {},
   "outputs": [
    {
     "name": "stdout",
     "output_type": "stream",
     "text": [
      "Before adding unknown values: \n",
      "[[ 0.4265416   0.7329539   0.41491604]\n",
      " [ 0.09065734  0.4931225   0.42662206]\n",
      " [-0.2811738   0.52391225  0.81994474]]\n",
      "\n",
      "After adding nan values \n",
      "[[       nan 0.7329539         nan]\n",
      " [       nan        nan        nan]\n",
      " [       nan 0.52391225 0.81994474]]\n"
     ]
    }
   ],
   "source": [
    "#Select the first patch and slices of the \"row\" and \"column\" dimensions\n",
    "first_patch = u_10_meter.sel(p=0,row=slice(0,2),col=slice(0,2))\n",
    "\n",
    "#We can add NaNs using the \"where\" function in xarray\n",
    "print('Before adding unknown values: \\n'+ str(first_patch.values))\n",
    "nan_patch = first_patch.where(first_patch > 0.5)\n",
    "print('\\nAfter adding nan values \\n' + str(nan_patch.values))"
   ]
  },
  {
   "cell_type": "code",
   "execution_count": 85,
   "metadata": {},
   "outputs": [
    {
     "name": "stdout",
     "output_type": "stream",
     "text": [
      "Dropping NaNs \n",
      "[[0.7329539         nan]\n",
      " [0.52391225 0.81994474]]\n",
      "\n",
      "Fill NaN with value \n",
      "[[0.         0.7329539  0.        ]\n",
      " [0.         0.         0.        ]\n",
      " [0.         0.52391225 0.81994474]]\n",
      "\n",
      "Forward filling one dimension of NaNs \n",
      "[[       nan 0.7329539         nan]\n",
      " [       nan 0.7329539         nan]\n",
      " [       nan 0.52391225 0.81994474]]\n",
      "\n",
      "Backfilling one dimension of NaNs \n",
      "[[0.7329539  0.7329539         nan]\n",
      " [       nan        nan        nan]\n",
      " [0.52391225 0.52391225 0.81994474]]\n"
     ]
    }
   ],
   "source": [
    "#Handling NaNs similar to pandas dataframes\n",
    "print('Dropping NaNs: \\n' + str(first_patch.where(first_patch > 0.5,drop=True).values))\n",
    "\n",
    "print('\\nFill NaN with value: \\n' + str(nan_patch.fillna(0).values))\n",
    "\n",
    "print('\\nForward filling one dimension of NaNs: \\n'+ str(nan_patch.ffill(dim='row').values))\n",
    "\n",
    "print('\\nBackfilling one dimension of NaNs: \\n' + str(nan_patch.bfill(dim='col').values))"
   ]
  },
  {
   "cell_type": "markdown",
   "metadata": {},
   "source": [
    "## Note: xarray currently only supports forward/backfiling in one dimension."
   ]
  },
  {
   "cell_type": "code",
   "execution_count": 86,
   "metadata": {},
   "outputs": [
    {
     "name": "stdout",
     "output_type": "stream",
     "text": [
      "After adding inf values \n",
      "[[       inf 0.7329539         inf]\n",
      " [       inf        inf        inf]\n",
      " [       inf 0.52391225 0.81994474]]\n",
      "\n",
      "Patch with NaNs instead of inf \n",
      "[[       nan 0.7329539         nan]\n",
      " [       nan        nan        nan]\n",
      " [       nan 0.52391225 0.81994474]]\n",
      "\n",
      "Fill with value \n",
      "[[0.         0.7329539  0.        ]\n",
      " [0.         0.         0.        ]\n",
      " [0.         0.52391225 0.81994474]]\n"
     ]
    }
   ],
   "source": [
    "#Add inf instead of NaN values\n",
    "inf_patch = first_patch.where(first_patch > 0.5, other=np.inf)\n",
    "print('After adding inf values: \\n' + str(inf_patch.values))\n",
    "\n",
    "#Set infinity values to NaN and use above methods\n",
    "#Anywhere the function \"where\" is false, will return NaN\n",
    "masked_patch = inf_patch.where(inf_patch != np.inf)\n",
    "print('\\nPatch with NaNs instead of inf: \\n' + str(masked_patch.values))\n",
    "print('\\nFill with value: \\n' + str(masked_patch.fillna(0).values))"
   ]
  },
  {
   "cell_type": "markdown",
   "metadata": {},
   "source": [
    "***How to handle outliers using pandas***\n",
    "\n",
    "In addition to missing values, handling outliers can be important when using different dimensionality reduction techniques and inputting data to ML models. \n",
    "\n",
    "First, we will define the quantiles used to identify outliers. In this case they are the 5th and 95th percentiles."
   ]
  },
  {
   "cell_type": "code",
   "execution_count": 88,
   "metadata": {},
   "outputs": [
    {
     "name": "stdout",
     "output_type": "stream",
     "text": [
      "Upper quantile: \n",
      "U10_percentile_50    7.564244\n",
      "V10_percentile_50    7.758882\n",
      "Name: 0.95, dtype: float64\n",
      "\n",
      "Lower quantile: \n",
      "U10_percentile_50   -6.682612\n",
      "V10_percentile_50   -7.370860\n",
      "Name: 0.05, dtype: float64\n"
     ]
    }
   ],
   "source": [
    "#Define sliced data for fast processing \n",
    "outlier_data = csv_all_files.loc[:,\n",
    "                        ['U10_percentile_50','V10_percentile_50']]\n",
    "\n",
    "#Define upper and lower quantiles\n",
    "upper_q = outlier_data.quantile(0.95)\n",
    "lower_q = outlier_data.quantile(0.05)\n",
    "print('Upper quantile: \\n' + str(upper_q[:10]))\n",
    "print('\\nLower quantile: \\n' + str(lower_q[:10]))"
   ]
  },
  {
   "cell_type": "code",
   "execution_count": 90,
   "metadata": {},
   "outputs": [
    {
     "name": "stdout",
     "output_type": "stream",
     "text": [
      "Number of outliers: 22577\n"
     ]
    }
   ],
   "source": [
    "#First make a copy of our data so we don't overwrite the original dataset\n",
    "filtered_data =  outlier_data.copy(deep=True)\n",
    "\n",
    "#Only keep values between the two quantiles. Drop any NaN values. \n",
    "filtered_data = filtered_data[(filtered_data < upper_q.values) &\n",
    "                             (filtered_data  >= lower_q.values)].dropna()\n",
    "\n",
    "print('Number of outliers:', (len(outlier_data) - len(filtered_data)))"
   ]
  },
  {
   "cell_type": "markdown",
   "metadata": {},
   "source": [
    "We can investigate the filtered data to make sure the outliers are correctly removed.  "
   ]
  },
  {
   "cell_type": "code",
   "execution_count": 91,
   "metadata": {},
   "outputs": [
    {
     "data": {
      "text/plain": [
       "<matplotlib.axes._subplots.AxesSubplot at 0x22268e91668>"
      ]
     },
     "execution_count": 91,
     "metadata": {},
     "output_type": "execute_result"
    },
    {
     "data": {
      "image/png": "[encoded data removed]",
      "text/plain": [
       "<Figure size 432x288 with 1 Axes>"
      ]
     },
     "metadata": {},
     "output_type": "display_data"
    }
   ],
   "source": [
    "#Plot horizontally oriented boxplot\n",
    "sns.boxplot(data=filtered_data,orient=\"h\")"
   ]
  },
  {
   "cell_type": "code",
   "execution_count": 92,
   "metadata": {},
   "outputs": [
    {
     "data": {
      "text/plain": [
       "<matplotlib.axes._subplots.AxesSubplot at 0x22267365da0>"
      ]
     },
     "execution_count": 92,
     "metadata": {},
     "output_type": "execute_result"
    },
    {
     "data": {
      "image/png": "[encoded data removed]",
      "text/plain": [
       "<Figure size 432x288 with 1 Axes>"
      ]
     },
     "metadata": {},
     "output_type": "display_data"
    }
   ],
   "source": [
    "#Plot horizontally oriented violinplot\n",
    "sns.violinplot(data=filtered_data,orient=\"h\")"
   ]
  },
  {
   "cell_type": "markdown",
   "metadata": {},
   "source": [
    "***How to handle outliers and subset data using xarray***"
   ]
  },
  {
   "cell_type": "code",
   "execution_count": 98,
   "metadata": {},
   "outputs": [
    {
     "name": "stdout",
     "output_type": "stream",
     "text": [
      "Upper quantile: \n",
      "5.1227899312973015\n",
      "\n",
      "Lower quantile: \n",
      "-10.937298774719238\n"
     ]
    }
   ],
   "source": [
    "#Dask can be finicky with data arrays, use .load() function to avoid issues\n",
    "u_10_meter = u_10_meter.load()\n",
    "\n",
    "#Find the upper and lower quantiles across every patch\n",
    "upper_q = u_10_meter.quantile(0.95,dim=('p','row','col')).values\n",
    "lower_q = u_10_meter.quantile(0.05,dim=('p','row','col')).values\n",
    "\n",
    "print('Upper quantile: \\n'+ str(upper_q))\n",
    "print('\\nLower quantile: \\n' + str(lower_q))"
   ]
  },
  {
   "cell_type": "code",
   "execution_count": 107,
   "metadata": {},
   "outputs": [
    {
     "name": "stdout",
     "output_type": "stream",
     "text": [
      "Max value of dataset with outliers: 20.286409378051758\n",
      "Min value of dataset with outliers: -18.771434783935547\n",
      "\n",
      "Max value of dataset with no outliers: 5.122779846191406\n",
      "Min value of dataset with no outliers: -10.937295913696289\n"
     ]
    }
   ],
   "source": [
    "print('Max value of dataset with outliers:', u_10_meter.max().values)\n",
    "print('Min value of dataset with outliers:', u_10_meter.min().values)\n",
    "\n",
    "#Subset xarray variable between upper and lower quantiles\n",
    "no_outlier_xarray = u_10_meter.where((u_10_meter < upper_q) & \n",
    "                                    (u_10_meter > lower_q),\n",
    "                                    drop=True) \n",
    "\n",
    "print('\\nMax value of dataset with no outliers:', no_outlier_xarray.max().values)\n",
    "print('Min value of dataset with no outliers:', no_outlier_xarray.min().values)"
   ]
  },
  {
   "cell_type": "markdown",
   "metadata": {
    "collapsed": true,
    "scrolled": true
   },
   "source": [
    "<br>\n",
    "<br>\n",
    "<br>\n",
    "\n",
    "## Normalization and Scaling"
   ]
  },
  {
   "cell_type": "markdown",
   "metadata": {},
   "source": [
    "When predicting with multiple variables on different scales, a trained model will emphasize variables that have higher ranges in variance. If the predictor variables are not normalized, then a model will underscore variables like temperature (varying from $\\sim$180-330 K) while ignoring specific humidity (varying from $\\sim$0-0.02 kg kg$^{-1}$).\n",
    " \n",
    "**We will be looking at different sklearn.preprocessing packages to standardize our data. More information about sklearn will be provided in the next lecture.**\n",
    "\n",
    "https://scikit-learn.org/stable/auto_examples/preprocessing/plot_all_scaling.html#sphx-glr-auto-examples-preprocessing-plot-all-scaling-py"
   ]
  },
  {
   "cell_type": "code",
   "execution_count": 116,
   "metadata": {},
   "outputs": [],
   "source": [
    "#Define pandas dataframe variables we will scale\n",
    "dataframe = csv_all_files.loc[:,['U10_percentile_50','V10_percentile_50']]\n",
    "\n",
    "#Define xarray dataset variables we will scale\n",
    "dataset = mxf['U10_curr'][0,:,:]"
   ]
  },
  {
   "cell_type": "markdown",
   "metadata": {},
   "source": [
    "***MinMaxScaler***\n",
    "\n",
    "Scalar = $\\frac{x_{i} - min(x)}{max(x) - min(x)}$\n",
    "\n",
    "Transforms predictor features to lie between 0 and 1 based on the given the maximum and minimum values."
   ]
  },
  {
   "cell_type": "code",
   "execution_count": 117,
   "metadata": {},
   "outputs": [
    {
     "name": "stdout",
     "output_type": "stream",
     "text": [
      "Max csv value: 1.0 , Min csv value: 0.0\n",
      "Max nc value: 1.0000001 , Min nc value: 0.0\n"
     ]
    }
   ],
   "source": [
    "from sklearn.preprocessing import MinMaxScaler\n",
    "\n",
    "#Scale csv data \n",
    "scaled_csv_data = MinMaxScaler().fit_transform(dataframe)\n",
    "print('Max csv value:',scaled_csv_data.max(),', Min csv value:',scaled_csv_data.min())\n",
    "\n",
    "#Scale nc data\n",
    "scaled_nc_data = MinMaxScaler().fit_transform(dataset)\n",
    "print('Max nc value:',scaled_nc_data.max(),', Min nc value:',scaled_nc_data.min())"
   ]
  },
  {
   "cell_type": "markdown",
   "metadata": {},
   "source": [
    "***MaxAbsScaler***\n",
    "\n",
    "Scalar = $\\frac{x_{i}}{abs(max(x))}$\n",
    "\n",
    "Transforms the predictor features given the absolute maximum value, with scaled values ranging from -1 to 1. e absolute values of the predictor features, ranging between -1 and 1. This scalar does not shift or center data, and therefore does not destroy any data sparsity. "
   ]
  },
  {
   "cell_type": "code",
   "execution_count": 118,
   "metadata": {},
   "outputs": [
    {
     "name": "stdout",
     "output_type": "stream",
     "text": [
      "Max csv value: 1.0 , Min csv value: -1.0\n",
      "Max nc value: 1.0 , Min nc value: -1.0\n"
     ]
    }
   ],
   "source": [
    "from sklearn.preprocessing import MaxAbsScaler\n",
    "\n",
    "#Scale csv data\n",
    "scaled_csv_data = MaxAbsScaler().fit_transform(dataframe)\n",
    "print('Max csv value:',scaled_csv_data.max(),', Min csv value:',scaled_csv_data.min())\n",
    "\n",
    "#Scale nc data\n",
    "scaled_nc_data = MaxAbsScaler().fit_transform(dataset)\n",
    "print('Max nc value:',scaled_nc_data.max(),', Min nc value:',scaled_nc_data.min())"
   ]
  },
  {
   "cell_type": "markdown",
   "metadata": {},
   "source": [
    "***StandardScaler***\n",
    "\n",
    "Scalar = $\\frac{x_{i}-mean(x)}{stdev(x)}$\n",
    "\n",
    "Transforms the predictor features given the calculated mean and standard deviation. Assumes the data are normally distributed to center the data near 0 with unit variance.  "
   ]
  },
  {
   "cell_type": "code",
   "execution_count": 122,
   "metadata": {},
   "outputs": [
    {
     "name": "stdout",
     "output_type": "stream",
     "text": [
      "Mean csv value: -1.1261976544403382e-17 , Standard Deviation csv value: 1.0\n",
      "Mean nc value: 3.7252903e-09 , Standard Deviation nc value: 1.0\n"
     ]
    }
   ],
   "source": [
    "from sklearn.preprocessing import StandardScaler\n",
    "\n",
    "#Scale csv data\n",
    "standard_scaled_csv_data = StandardScaler().fit_transform(dataframe)\n",
    "print('Mean csv value:',standard_scaled_csv_data.mean(),', Standard Deviation csv value:',standard_scaled_csv_data.std())\n",
    "\n",
    "#Scale nc data\n",
    "standard_scaled_nc_data = StandardScaler().fit_transform(dataset)\n",
    "print('Mean nc value:',standard_scaled_nc_data.mean(),', Standard Deviation nc value:',standard_scaled_nc_data.std())"
   ]
  },
  {
   "cell_type": "markdown",
   "metadata": {},
   "source": [
    "***RobustScaler***\n",
    "\n",
    "Scalar = $\\frac{x_{i} - Q_{1}(x)}{Q_{3}(x) - Q_{1}(x)}$\n",
    "\n",
    "Scaling based on the mean and variance can be problematic if the data contain outliers. Instead of removing outliers, RobustScalar scales the data based on the interquartile range with a median of 0. The decreases the amount of data used for scaling, but can be useful if there are multiple outliers.  "
   ]
  },
  {
   "cell_type": "code",
   "execution_count": 129,
   "metadata": {},
   "outputs": [
    {
     "name": "stdout",
     "output_type": "stream",
     "text": [
      "Median csv value: 0.0\n",
      "Median nc value: 0.0\n"
     ]
    }
   ],
   "source": [
    "from sklearn.preprocessing import RobustScaler\n",
    "\n",
    "#Scale csv data\n",
    "scaled_csv_data = RobustScaler().fit_transform(dataframe)\n",
    "print('Median csv value:',np.median(scaled_csv_data))\n",
    "\n",
    "#Scale nc data\n",
    "scaled_nc_data = RobustScaler().fit_transform(dataset)\n",
    "print('Median nc value:',np.median(scaled_nc_data))"
   ]
  },
  {
   "cell_type": "markdown",
   "metadata": {},
   "source": [
    "***Normalizer***\n",
    "\n",
    "If features are in $x,y,z$ cartesian space:\n",
    "\n",
    "normalizer = $\\frac{x_{i}}{  {  \\sqrt{{x_i}^2+{y_i}^2+{z_i}^2}}}$\n",
    "\n",
    "Transforms data by scaling predictor **samples** rather than features (row-wise instead of column-wise). Divides each row by the magnitude of n-dimensional features. This scales each sample to have unit norm. space for n number of features. Normalization is the process of scaling individual samples to have unit norm."
   ]
  },
  {
   "cell_type": "code",
   "execution_count": 131,
   "metadata": {},
   "outputs": [
    {
     "name": "stdout",
     "output_type": "stream",
     "text": [
      "One row csv data norm: 1.0\n",
      "One row nc data norm: 1.0\n"
     ]
    }
   ],
   "source": [
    "from sklearn.preprocessing import Normalizer\n",
    "from scipy.linalg import norm\n",
    "\n",
    "#Normalize csv data\n",
    "normalized_csv_data = Normalizer().fit_transform(dataframe)\n",
    "print('One row csv data norm:',norm(normalized_csv_data[0],ord=2))\n",
    "\n",
    "#Normalize nc data\n",
    "normalized_nc_data = Normalizer().fit_transform(dataset)\n",
    "print('One row nc data norm:',norm(normalized_nc_data[0],ord=2))"
   ]
  },
  {
   "cell_type": "markdown",
   "metadata": {},
   "source": [
    "***QuantileTransformer***\n",
    "\n",
    "Transforms each **feature** independently based on a non-linear function such the features probability density function is mapped to a uniform distribution. This transformer is useful when outliers are present, similar to RobustScalar, however QuantileTransformer will collapse outliers to the distribution range rather than preserve them. "
   ]
  },
  {
   "cell_type": "code",
   "execution_count": 133,
   "metadata": {},
   "outputs": [
    {
     "name": "stdout",
     "output_type": "stream",
     "text": [
      "Mean csv value: 0.0007242068916310013 , Standard Deviation csv value: 0.9987058314349129\n",
      "Mean nc value: -3.9115548e-08 , Standard Deviation nc value: 1.5659415\n"
     ]
    },
    {
     "name": "stderr",
     "output_type": "stream",
     "text": [
      "C:\\Users\\aburk\\Anaconda3\\lib\\site-packages\\sklearn\\preprocessing\\data.py:2239: UserWarning: n_quantiles (1000) is greater than the total number of samples (32). n_quantiles is set to n_samples.\n",
      "  % (self.n_quantiles, n_samples))\n"
     ]
    }
   ],
   "source": [
    "from sklearn.preprocessing import QuantileTransformer\n",
    "\n",
    "#Transform csv data\n",
    "transformed_csv_data = QuantileTransformer(output_distribution='normal').fit_transform(dataframe)\n",
    "print('Mean csv value:',transformed_csv_data.mean(),', Standard Deviation csv value:',transformed_csv_data.std())\n",
    "\n",
    "# Transform nc data\n",
    "transformed_nc_data = QuantileTransformer(output_distribution='normal').fit_transform(dataset)\n",
    "print('Mean nc value:',transformed_nc_data.mean(),', Standard Deviation nc value:',transformed_nc_data.std())"
   ]
  },
  {
   "cell_type": "markdown",
   "metadata": {},
   "source": [
    "***PowerTransformer***\n",
    "\n",
    "Transforms each feature to a gaussian distribution, similar to QuantileTransformer, using parametric, monotonic transformations. Also scales data to a 0 mean and unit variance after transformation. "
   ]
  },
  {
   "cell_type": "code",
   "execution_count": 135,
   "metadata": {},
   "outputs": [
    {
     "name": "stdout",
     "output_type": "stream",
     "text": [
      "Mean csv value: 1.8769960907338968e-17 , Standard Deviation csv value: 0.9999999999999999\n",
      "Mean nc value: 0.0 , Standard Deviation nc value: 1.0\n"
     ]
    }
   ],
   "source": [
    "from sklearn.preprocessing import PowerTransformer\n",
    "\n",
    "#Transform csv data\n",
    "transformed_csv_data = PowerTransformer().fit_transform(dataframe)\n",
    "print('Mean csv value:',transformed_csv_data.mean(),', Standard Deviation csv value:',transformed_csv_data.std())\n",
    "\n",
    "# Transform nc data\n",
    "transformed_nc_data = PowerTransformer().fit_transform(dataset)\n",
    "print('Mean nc value:',transformed_nc_data.mean(),', Standard Deviation nc value:',transformed_nc_data.std())"
   ]
  },
  {
   "cell_type": "markdown",
   "metadata": {},
   "source": [
    "<br>\n",
    "<br>\n",
    "<br>\n",
    "\n",
    "## Dimensionality Reduction "
   ]
  },
  {
   "cell_type": "markdown",
   "metadata": {},
   "source": [
    "**Why perform dimensionality reduction?**\n",
    "* Less space is required to store data with reduced dimensions\n",
    "* Running models is more computationally efficient on less dimensions\n",
    "* Some models do not perform well on dimensionally large datasets\n",
    "* Remove redundant features \n",
    "* Better visualization in lower dimensional space"
   ]
  },
  {
   "cell_type": "markdown",
   "metadata": {},
   "source": [
    "***Principal Component Analysis (PCA)***\n",
    "\n",
    "PCA reduces the dimensionality of a dataset by extracting new features that are linear combinations of the original predictor variables. The new features encompass a desired amount of variance of the predictor dataset (usually 85% variance or higher).\n",
    "\n",
    "The *principal components (PCs)* output from the algorithm are linearly independent and uncorrelated, which can be beneficial for certain model assumptions. Scaling before PCA is recommended, so that the variables with the greatest explained variance of a dataset are not emphasized on features with large ranges.  The first PC contains the most variance within the scaled data, the second (orthogonal to the first) explains the next most variance, and so on and so forth. \n",
    "\n",
    "For more information:\n",
    "\n",
    "https://towardsdatascience.com/a-one-stop-shop-for-principal-component-analysis-5582fb7e0a9c\n",
    "\n",
    "https://towardsdatascience.com/pca-using-python-scikit-learn-e653f8989e60"
   ]
  },
  {
   "cell_type": "markdown",
   "metadata": {},
   "source": [
    "<img src=\"Images/pca.gif\" width=\"350\" align=\"left\">"
   ]
  },
  {
   "cell_type": "markdown",
   "metadata": {},
   "source": [
    "https://giphy.com/gifs/pca-KRpGtfuxQgCEo"
   ]
  },
  {
   "cell_type": "markdown",
   "metadata": {},
   "source": [
    "<img src=\"Images/PCAexample.png\" width=\"600\" align=\"left\">"
   ]
  },
  {
   "cell_type": "markdown",
   "metadata": {},
   "source": [
    "https://ourcodingclub.github.io/img/PCAexample.png "
   ]
  },
  {
   "cell_type": "markdown",
   "metadata": {},
   "source": [
    "**How to determine how many variables are needed to explain 85% variance?**"
   ]
  },
  {
   "cell_type": "code",
   "execution_count": 136,
   "metadata": {},
   "outputs": [
    {
     "name": "stdout",
     "output_type": "stream",
     "text": [
      "Before PCA: \n",
      "[ 2.281147    1.6145438   0.13652939  0.3488281   1.7787699   2.665733\n",
      "  2.0448763  -1.1826547  -3.3957396  -2.70342   ]\n",
      "After PCA: \n",
      "[-0.6934959  6.2397842 -2.059066  -1.6571307 -1.2696235  2.0348175\n",
      "  1.022995   1.3560362  1.3496971 -0.1047691]\n"
     ]
    },
    {
     "data": {
      "image/png": "[encoded data removed]",
      "text/plain": [
       "<Figure size 432x288 with 1 Axes>"
      ]
     },
     "metadata": {},
     "output_type": "display_data"
    }
   ],
   "source": [
    "from sklearn.decomposition import PCA\n",
    "\n",
    "print('Before PCA: \\n' + str(standard_scaled_nc_data[0,:10]))\n",
    "\n",
    "#Fit the PCA model with the already scaled data\n",
    "pca_nc_model = PCA().fit(standard_scaled_nc_data)\n",
    "\n",
    "#Plot the cumulutive sum of the explained variance ratio \n",
    "plt.plot(np.cumsum(pca_nc_model.explained_variance_ratio_))\n",
    "plt.title('Standard netCDF patch data of 10 meter U Wind')\n",
    "plt.xlabel('Number of Components')\n",
    "plt.ylabel('Cumulative Explained variance')\n",
    "plt.grid(True)\n",
    "#If more than two components are wanted, fit the model again and then transform\n",
    "\n",
    "#Otherwise transform the desired data using a fitted PCA model\n",
    "pca_nc_data = pca_nc_model.transform(standard_scaled_nc_data)\n",
    "\n",
    "print('After PCA: \\n' + str(pca_nc_data[0,:10]))"
   ]
  },
  {
   "cell_type": "markdown",
   "metadata": {},
   "source": [
    "<br>\n",
    "<br>\n",
    "<br>\n",
    "\n",
    "# 6. Tutorial Data Preparation"
   ]
  },
  {
   "cell_type": "markdown",
   "metadata": {},
   "source": [
    "**The functions to extract the csv and netCDF data can be found at .../util/extract_data.py**"
   ]
  },
  {
   "cell_type": "code",
   "execution_count": 137,
   "metadata": {},
   "outputs": [],
   "source": [
    "# Input variables for the extract_csv_data() function\n",
    "csv_input_variables = ['REFL_COM_mean', 'REFL_COM_max', 'REFL_COM_min', 'REFL_COM_std', 'REFL_COM_percentile_10', \n",
    "'REFL_COM_percentile_25', 'REFL_COM_percentile_50', 'REFL_COM_percentile_75', 'REFL_COM_percentile_90', \n",
    "'U10_mean', 'U10_max', 'U10_min', 'U10_std', 'U10_percentile_10', 'U10_percentile_25', 'U10_percentile_50', \n",
    "'U10_percentile_75', 'U10_percentile_90', 'V10_mean', 'V10_max', 'V10_min', 'V10_std', 'V10_percentile_10', \n",
    "'V10_percentile_25', 'V10_percentile_50', 'V10_percentile_75', 'V10_percentile_90', 'T2_mean', 'T2_max', \n",
    "'T2_min', 'T2_std', 'T2_percentile_10', 'T2_percentile_25', 'T2_percentile_50', 'T2_percentile_75', \n",
    "'T2_percentile_90', 'area', 'eccentricity', 'major_axis_length', 'minor_axis_length', 'orientation']\n",
    "\n",
    "# Label variable for the extract_csv_data() function\n",
    "csv_label_variable = ['RVORT1_MAX-future_max'] \n",
    "\n",
    "# Input variables for the extract_nc_data() function\n",
    "nc_input_variables = [\"REFL_COM_curr\", \"U10_curr\", \"V10_curr\"]\n",
    "\n",
    "# Label variable for the extract_nc_data() function\n",
    "nc_label_variable = [\"RVORT1_MAX_future\"]"
   ]
  },
  {
   "cell_type": "code",
   "execution_count": 138,
   "metadata": {},
   "outputs": [],
   "source": [
    "# Find all csv files from a given directory\n",
    "# The input_data_path variable needs to be specified\n",
    "input_data_path = csv_path\n",
    "data_files = sorted(glob(input_data_path + \"*.csv\"))\n",
    "\n",
    "#Create empty lists for the predictors, labels, and time data \n",
    "in_data = []\n",
    "out_data = []\n",
    "valid_times = []"
   ]
  },
  {
   "cell_type": "code",
   "execution_count": 139,
   "metadata": {},
   "outputs": [],
   "source": [
    "#Loop through each file\n",
    "for files in data_files:\n",
    "    # Read in csv data\n",
    "    data = pd.read_csv(files)\n",
    "    #Append the predictor and label variables\n",
    "    in_data.append(data.loc[:,csv_input_variables].values)\n",
    "    out_data.append(data.loc[:,csv_label_variable].values)\n",
    "    #Append daily timestamps \n",
    "    valid_24_hour_date = data.loc[:,\"Valid_Date\"].values\n",
    "    valid_times.append(pd.Timestamp(valid_24_hour_date[0][:10]))"
   ]
  },
  {
   "cell_type": "code",
   "execution_count": 140,
   "metadata": {},
   "outputs": [
    {
     "name": "stdout",
     "output_type": "stream",
     "text": [
      "Predictor variables shape:  (100,)\n",
      "Label variable shape:  (100,)\n",
      "Valid date variable shape:  (100,)\n"
     ]
    }
   ],
   "source": [
    "print('Predictor variables shape: ',np.shape(in_data))\n",
    "print('Label variable shape: ',np.shape(out_data))\n",
    "print('Valid date variable shape: ',np.shape(valid_times))"
   ]
  },
  {
   "cell_type": "markdown",
   "metadata": {},
   "source": [
    "***Reading the netCDF files script***"
   ]
  },
  {
   "cell_type": "code",
   "execution_count": 171,
   "metadata": {},
   "outputs": [
    {
     "name": "stdout",
     "output_type": "stream",
     "text": [
      "Files extracted: 0\n",
      "Files extracted: 5\n",
      "Files extracted: 10\n",
      "Files extracted: 15\n",
      "All files extracted\n"
     ]
    }
   ],
   "source": [
    "# The input_data_path variable needs to be specified\n",
    "input_data_path = nc_path\n",
    "\n",
    "# Find all netcdf files from given directory\n",
    "data_files = sorted(glob(input_data_path + \"*.nc\"))\n",
    "   \n",
    "#Only look at first 20 files to save time\n",
    "data_files = np.array(data_files)[:20]\n",
    "\n",
    "in_data = []\n",
    "out_data = []\n",
    "valid_times = []\n",
    "    \n",
    "for f,files in enumerate(data_files):\n",
    "    if f%5 < 1:\n",
    "        print('Files extracted:',f)\n",
    "    elif (f+1) == 20:\n",
    "        print('All files extracted')\n",
    "    # Read in netcdf data\n",
    "    data = xr.open_mfdataset(files,combine='by_coords')\n",
    "    #Append the daily predictor and label variables \n",
    "    in_data.append(np.stack([data[v].values for v in nc_input_variables], axis=-1))\n",
    "    out_data.append(np.stack([data[v].values for v in nc_label_variable], axis=-1))\n",
    "    #Append daily timestamps \n",
    "    date = pd.Timestamp(files.split(\"NCARSTORM_\")[-1].split(\"_\")[0])\n",
    "    valid_times.append([date] * in_data[-1].shape[0])\n",
    "    data.close()\n",
    "\n",
    "# Concatenate/stack data from lists of arrays to a single array\n",
    "all_in_data = np.vstack(in_data)\n",
    "all_out_data = np.vstack(out_data)\n",
    "all_valid_times = np.concatenate(valid_times)"
   ]
  },
  {
   "cell_type": "code",
   "execution_count": 172,
   "metadata": {},
   "outputs": [
    {
     "name": "stdout",
     "output_type": "stream",
     "text": [
      "Predictor variables shape (20,)\n",
      "Label variable shape (20,)\n",
      "Valid date variable shape (20,)\n"
     ]
    }
   ],
   "source": [
    "print('Predictor variables shape',np.shape(in_data))\n",
    "print('Label variable shape',np.shape(out_data))\n",
    "print('Valid date variable shape',np.shape(valid_times))"
   ]
  },
  {
   "cell_type": "code",
   "execution_count": null,
   "metadata": {},
   "outputs": [],
   "source": []
  }
 ],
 "metadata": {
  "kernelspec": {
   "display_name": "Python 3",
   "language": "python",
   "name": "python3"
  },
  "language_info": {
   "codemirror_mode": {
    "name": "ipython",
    "version": 3
   },
   "file_extension": ".py",
   "mimetype": "text/x-python",
   "name": "python",
   "nbconvert_exporter": "python",
   "pygments_lexer": "ipython3",
   "version": "3.7.3"
  }
 },
 "nbformat": 4,
 "nbformat_minor": 2
}
